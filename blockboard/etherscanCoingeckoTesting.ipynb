{
 "cells": [
  {
   "cell_type": "markdown",
   "metadata": {},
   "source": [
    "Initialize etherscanTools"
   ]
  },
  {
   "cell_type": "code",
   "execution_count": 1,
   "metadata": {},
   "outputs": [],
   "source": [
    "from etherscanTools import EtherscanTools\n",
    "from pycoingecko import CoinGeckoAPI\n",
    "import pandas as pd\n",
    "from pandasgui import show\n",
    "\n",
    "api_key = 'VEQSPWESY5P3P9AZSUQ7J6C89HUZHZ5BM5'\n",
    "wallet_address = '0x96245791FEE4DC3c85045c5eeD425c488BD02E67'\n",
    "\n",
    "etherscanTools = EtherscanTools(api_key, wallet_address)\n",
    "cg = CoinGeckoAPI()"
   ]
  },
  {
   "cell_type": "code",
   "execution_count": 2,
   "metadata": {},
   "outputs": [],
   "source": [
    "addresses = etherscanTools.get_all_erc20_contract_addresses()\n",
    "tokens = etherscanTools.get_all_erc20_token_symbols()"
   ]
  },
  {
   "cell_type": "code",
   "execution_count": 3,
   "metadata": {},
   "outputs": [],
   "source": [
    "token_prices = []\n",
    "token_balances = []\n",
    "token_balances_in_dollars = []\n",
    "for address in addresses:\n",
    "    token_price_dicts = cg.get_token_price(\n",
    "            id='ethereum', contract_addresses=address, vs_currencies='usd')\n",
    "    if token_price_dicts:\n",
    "        token_price = token_price_dicts[address]['usd']\n",
    "    else:\n",
    "        token_price = 0\n",
    "    token_prices.append(token_price)\n",
    "    token_balance = etherscanTools.get_erc20_token_balance(address)\n",
    "    token_balances.append(token_balance)\n",
    "    token_balances_in_dollars.append(token_price * token_balance)"
   ]
  },
  {
   "cell_type": "code",
   "execution_count": 4,
   "metadata": {},
   "outputs": [
    {
     "name": "stderr",
     "output_type": "stream",
     "text": [
      "PandasGUI INFO — pandasgui.gui — Opening PandasGUI\n"
     ]
    },
    {
     "data": {
      "text/plain": [
       "<pandasgui.gui.PandasGui at 0x1f2d02aa700>"
      ]
     },
     "execution_count": 4,
     "metadata": {},
     "output_type": "execute_result"
    }
   ],
   "source": [
    "token_df = pd.DataFrame(\n",
    "    {\"Token Name\": tokens, \"Balance\": token_balances, \"Price ($USD)\": token_prices, \"Total ($USD)\": token_balances_in_dollars})\n",
    "show(token_df)"
   ]
  },
  {
   "cell_type": "code",
   "execution_count": 5,
   "metadata": {},
   "outputs": [
    {
     "name": "stdout",
     "output_type": "stream",
     "text": [
      "{\"Token Name\":{\"0\":\"CLS\",\"1\":\"UFO\",\"2\":\"TECH\",\"5\":\"MNY\",\"6\":\"GERO\",\"7\":\"AGIX\",\"9\":\"SUPER\",\"12\":\"UNI-V2\",\"14\":\"PYR\"},\"Balance\":{\"0\":22.7500351243,\"1\":160000000.0,\"2\":0.0,\"5\":25757.3941760581,\"6\":6928.2971009299,\"7\":3954.57545421,\"9\":208.1169950896,\"12\":0.0,\"14\":20.9902245167},\"Price ($USD)\":{\"0\":0.937962,\"1\":0.0000121,\"2\":0.00785643,\"5\":0.00299565,\"6\":0.04195201,\"7\":0.127189,\"9\":0.937262,\"12\":0.0,\"14\":0.0},\"Total ($USD)\":{\"0\":21.3386684453,\"1\":1936.0,\"2\":0.0,\"5\":77.1601378635,\"6\":290.6559892612,\"7\":502.9784974455,\"9\":195.0601510517,\"12\":0.0,\"14\":0.0}}\n"
     ]
    }
   ],
   "source": [
    "print(token_df.to_json())"
   ]
  }
 ],
 "metadata": {
  "interpreter": {
   "hash": "90c5260c20dc284c2658008cb5a871cd70af65711174e8ab419612604ff18462"
  },
  "kernelspec": {
   "display_name": "Python 3.9.9 64-bit (windows store)",
   "language": "python",
   "name": "python3"
  },
  "language_info": {
   "codemirror_mode": {
    "name": "ipython",
    "version": 3
   },
   "file_extension": ".py",
   "mimetype": "text/x-python",
   "name": "python",
   "nbconvert_exporter": "python",
   "pygments_lexer": "ipython3",
   "version": "3.9.9"
  },
  "orig_nbformat": 4
 },
 "nbformat": 4,
 "nbformat_minor": 2
}

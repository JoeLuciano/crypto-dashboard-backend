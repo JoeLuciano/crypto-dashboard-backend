{
 "cells": [
  {
   "cell_type": "markdown",
   "metadata": {},
   "source": [
    "Initialize etherscanTools"
   ]
  },
  {
   "cell_type": "code",
   "execution_count": 7,
   "metadata": {},
   "outputs": [],
   "source": [
    "from etherscantools import EtherscanTools\n",
    "from pycoingecko import CoinGeckoAPI\n",
    "import pandas as pd\n",
    "\n",
    "api_key = 'VEQSPWESY5P3P9AZSUQ7J6C89HUZHZ5BM5'\n",
    "wallet_address = '0x96245791FEE4DC3c85045c5eeD425c488BD02E67'\n",
    "\n",
    "etherscanTools = EtherscanTools(api_key, wallet_address)\n",
    "cg = CoinGeckoAPI()"
   ]
  },
  {
   "cell_type": "code",
   "execution_count": 8,
   "metadata": {},
   "outputs": [],
   "source": [
    "addresses = etherscanTools.get_all_erc20_contract_addresses()\n",
    "tokens = etherscanTools.get_all_erc20_token_symbols()"
   ]
  },
  {
   "cell_type": "code",
   "execution_count": 13,
   "metadata": {},
   "outputs": [],
   "source": [
    "token_prices = []\n",
    "token_balances = []\n",
    "token_balances_in_dollars = []\n",
    "for address in addresses:\n",
    "    token_price_dicts = cg.get_token_price(\n",
    "            id='ethereum', contract_addresses=address, vs_currencies='usd')\n",
    "    if token_price_dicts:\n",
    "        token_price = token_price_dicts[address]['usd']\n",
    "    else:\n",
    "        token_price = 0\n",
    "    token_prices.append(token_price)\n",
    "    token_balance = etherscanTools.get_erc20_token_balance(address)\n",
    "    token_balances.append(token_balance)\n",
    "    token_balances_in_dollars.append(token_price * token_balance)"
   ]
  },
  {
   "cell_type": "code",
   "execution_count": 14,
   "metadata": {},
   "outputs": [
    {
     "name": "stdout",
     "output_type": "stream",
     "text": [
      "   Token Name       Balance      Price     Position\n",
      "0         CLS  2.275004e+01   1.850000    42.087565\n",
      "1         UFO  1.600000e+08   0.000028  4488.000000\n",
      "2        TECH  0.000000e+00   0.019851     0.000000\n",
      "5         MNY  2.575739e+04   0.005194   133.775405\n",
      "6        GERO  6.928297e+03   0.074896   518.901740\n",
      "7        AGIX  3.954575e+03   0.213320   843.590036\n",
      "9       SUPER  2.081170e+02   1.270000   264.308584\n",
      "12     UNI-V2  0.000000e+00   0.000000     0.000000\n",
      "14        PYR  2.099022e+01  18.060000   379.083455\n"
     ]
    }
   ],
   "source": [
    "token_df = pd.DataFrame(\n",
    "    {\"Token Name\": tokens, \"Balance\": token_balances, \"Price\": token_prices, \"Position\": token_balances_in_dollars})\n",
    "print(token_df)"
   ]
  },
  {
   "cell_type": "code",
   "execution_count": null,
   "metadata": {},
   "outputs": [],
   "source": []
  }
 ],
 "metadata": {
  "interpreter": {
   "hash": "90c5260c20dc284c2658008cb5a871cd70af65711174e8ab419612604ff18462"
  },
  "kernelspec": {
   "display_name": "Python 3.9.9 64-bit (windows store)",
   "language": "python",
   "name": "python3"
  },
  "language_info": {
   "codemirror_mode": {
    "name": "ipython",
    "version": 3
   },
   "file_extension": ".py",
   "mimetype": "text/x-python",
   "name": "python",
   "nbconvert_exporter": "python",
   "pygments_lexer": "ipython3",
   "version": "3.9.9"
  },
  "orig_nbformat": 4
 },
 "nbformat": 4,
 "nbformat_minor": 2
}

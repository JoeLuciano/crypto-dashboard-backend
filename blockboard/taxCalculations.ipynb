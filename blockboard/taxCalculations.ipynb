{
 "cells": [
  {
   "cell_type": "code",
   "execution_count": 8,
   "metadata": {},
   "outputs": [],
   "source": [
    "# from etherscanTools import EtherscanTools\n",
    "# from pycoingecko import CoinGeckoAPI\n",
    "from taxTools import TaxTools\n",
    "\n",
    "api_key = 'VEQSPWESY5P3P9AZSUQ7J6C89HUZHZ5BM5'\n",
    "wallet_address = '0x96245791FEE4DC3c85045c5eeD425c488BD02E67'\n",
    "\n",
    "# etherscanTools = EtherscanTools(api_key, wallet_address)\n",
    "# cg = CoinGeckoAPI()\n",
    "taxTools = TaxTools(api_key, wallet_address)"
   ]
  },
  {
   "cell_type": "markdown",
   "metadata": {},
   "source": [
    "Calculating gas for a single transaction\n",
    "\n",
    "    gasUsed - Total GAS units to compute this txn\n",
    "\n",
    "    gasPrice - Cost of one unit of GAS in GWEI\n",
    "\n",
    "Sooo.....\n",
    "\n",
    "    GAS ($USD) = gasUsed * (gasPrice / 10^9) * ethPrice ($USD)"
   ]
  },
  {
   "cell_type": "markdown",
   "metadata": {},
   "source": [
    "To get price data from CoinGecko, need a wide timestamp range\n",
    "\n",
    "    Rounding to the ten-thousands will guarantee at least one spot price is captured"
   ]
  },
  {
   "cell_type": "code",
   "execution_count": 9,
   "metadata": {},
   "outputs": [
    {
     "name": "stdout",
     "output_type": "stream",
     "text": [
      "369.1386854093108\n"
     ]
    }
   ],
   "source": [
    "print(taxTools.get_yearly_gas_costs_in_USD(2021))"
   ]
  }
 ],
 "metadata": {
  "interpreter": {
   "hash": "83a38565c0bd2659851302e853928af0a9d79718c3c022ca9dc0001a999d5cb4"
  },
  "kernelspec": {
   "display_name": "Python 3.9.9 64-bit ('BlockBoard-RzBaF3SJ': pipenv)",
   "language": "python",
   "name": "python3"
  },
  "language_info": {
   "codemirror_mode": {
    "name": "ipython",
    "version": 3
   },
   "file_extension": ".py",
   "mimetype": "text/x-python",
   "name": "python",
   "nbconvert_exporter": "python",
   "pygments_lexer": "ipython3",
   "version": "3.9.10"
  },
  "orig_nbformat": 4
 },
 "nbformat": 4,
 "nbformat_minor": 2
}
